{
  "nbformat": 4,
  "nbformat_minor": 0,
  "metadata": {
    "colab": {
      "provenance": [],
      "gpuType": "T4"
    },
    "kernelspec": {
      "name": "python3",
      "display_name": "Python 3"
    },
    "language_info": {
      "name": "python"
    },
    "accelerator": "GPU"
  },
  "cells": [
    {
      "cell_type": "markdown",
      "source": [
        "# Explainable Adversarial Auto-Encoder Network (xAAEnet)"
      ],
      "metadata": {
        "id": "KFCOqdpaXm7S"
      }
    },
    {
      "cell_type": "markdown",
      "source": [
        "/!\\ Travailler sur le GPU /!\\\n",
        "Runtime -> Change runtime type -> T4 GPU -> Save"
      ],
      "metadata": {
        "id": "Tp20H5ThbGgF"
      }
    },
    {
      "cell_type": "markdown",
      "source": [
        "Cloner le repository GitHub et se déplacer à l'intérieur du dossier correspondant"
      ],
      "metadata": {
        "id": "F-ZZBXSkX_Zy"
      }
    },
    {
      "cell_type": "code",
      "execution_count": 1,
      "metadata": {
        "colab": {
          "base_uri": "https://localhost:8080/"
        },
        "id": "q9n8GaDzXlsg",
        "outputId": "cf524ed0-1f60-4e06-b239-eb5cd3e4052c"
      },
      "outputs": [
        {
          "output_type": "stream",
          "name": "stdout",
          "text": [
            "Cloning into 'Human-Centered-xAI'...\n",
            "remote: Enumerating objects: 76, done.\u001b[K\n",
            "remote: Counting objects: 100% (76/76), done.\u001b[K\n",
            "remote: Compressing objects: 100% (62/62), done.\u001b[K\n",
            "remote: Total 76 (delta 37), reused 40 (delta 12), pack-reused 0\u001b[K\n",
            "Receiving objects: 100% (76/76), 3.06 MiB | 15.72 MiB/s, done.\n",
            "Resolving deltas: 100% (37/37), done.\n",
            "/content/Human-Centered-xAI\n"
          ]
        }
      ],
      "source": [
        "! git clone https://github.com/LucaLaFisca/Human-Centered-xAI.git\n",
        "%cd Human-Centered-xAI"
      ]
    },
    {
      "cell_type": "markdown",
      "source": [
        "Importer les librairies nécessaires"
      ],
      "metadata": {
        "id": "j6x4JI-8Yuxf"
      }
    },
    {
      "cell_type": "code",
      "source": [
        "import torch\n",
        "from fastai.vision.all import *\n",
        "from fastai.data.all import *\n",
        "\n",
        "from model import AAE\n",
        "from utils import label_func, FreezeDiscriminator, GetLatentSpace, LossAttrMetric, distrib_regul_regression, compute_main_direction\n",
        "\n",
        "from sklearn.manifold import TSNE\n",
        "import matplotlib.pyplot as plt\n",
        "import matplotlib.colors as mcolors\n",
        "import seaborn as sns"
      ],
      "metadata": {
        "id": "3bVRGbHQX9ub"
      },
      "execution_count": 2,
      "outputs": []
    },
    {
      "cell_type": "markdown",
      "source": [
        "Définir les données d'entrée"
      ],
      "metadata": {
        "id": "fTddo8RFhFJU"
      }
    },
    {
      "cell_type": "code",
      "source": [
        "### Define the Dataloader\n",
        "data_path = untar_data(URLs.PETS) #checker les autres databases dispo\n",
        "print(data_path.ls())\n",
        "\n",
        "catblock = MultiCategoryBlock(encoded=True, vocab=['cat', 'dog'])\n",
        "dblock = DataBlock(\n",
        "    blocks=(ImageBlock(), catblock),\n",
        "    get_items=get_image_files,\n",
        "    splitter=RandomSplitter(valid_pct=0.2, seed=42),\n",
        "    get_y=label_func,\n",
        "    item_tfms=Resize(128),\n",
        "    batch_tfms=[Normalize.from_stats(*imagenet_stats)],\n",
        ")\n",
        "\n",
        "# Créez un DataLoader\n",
        "dls = dblock.dataloaders(data_path/\"images\", bs=16, drop_last=True)\n",
        "print('dls created')\n",
        "\n",
        "# extract the list of labels from the dls\n",
        "labels = [dls.train_ds[i][1].argmax().item() for i in range(len(dls.train_ds))]\n",
        "labels = labels + [dls.valid_ds[i][1].argmax().item() for i in range(len(dls.valid_ds))]\n",
        "labels = torch.tensor(labels)\n",
        "print(f'final labels: {labels}')"
      ],
      "metadata": {
        "colab": {
          "base_uri": "https://localhost:8080/",
          "height": 89
        },
        "id": "6Wcaxa_ghBof",
        "outputId": "69bc3e1b-8cf8-45a5-c379-7df65ae98a2d"
      },
      "execution_count": 3,
      "outputs": [
        {
          "output_type": "display_data",
          "data": {
            "text/plain": [
              "<IPython.core.display.HTML object>"
            ],
            "text/html": [
              "\n",
              "<style>\n",
              "    /* Turns off some styling */\n",
              "    progress {\n",
              "        /* gets rid of default border in Firefox and Opera. */\n",
              "        border: none;\n",
              "        /* Needs to be in here for Safari polyfill so background images work as expected. */\n",
              "        background-size: auto;\n",
              "    }\n",
              "    progress:not([value]), progress:not([value])::-webkit-progress-bar {\n",
              "        background: repeating-linear-gradient(45deg, #7e7e7e, #7e7e7e 10px, #5c5c5c 10px, #5c5c5c 20px);\n",
              "    }\n",
              "    .progress-bar-interrupted, .progress-bar-interrupted::-webkit-progress-bar {\n",
              "        background: #F44336;\n",
              "    }\n",
              "</style>\n"
            ]
          },
          "metadata": {}
        },
        {
          "output_type": "display_data",
          "data": {
            "text/plain": [
              "<IPython.core.display.HTML object>"
            ],
            "text/html": [
              "\n",
              "    <div>\n",
              "      <progress value='811712512' class='' max='811706944' style='width:300px; height:20px; vertical-align: middle;'></progress>\n",
              "      100.00% [811712512/811706944 00:17&lt;00:00]\n",
              "    </div>\n",
              "    "
            ]
          },
          "metadata": {}
        },
        {
          "output_type": "stream",
          "name": "stdout",
          "text": [
            "[Path('/root/.fastai/data/oxford-iiit-pet/annotations'), Path('/root/.fastai/data/oxford-iiit-pet/images')]\n",
            "dls created\n",
            "final labels: tensor([0, 1, 1,  ..., 1, 0, 0])\n"
          ]
        }
      ]
    },
    {
      "cell_type": "markdown",
      "source": [
        "Créer le modèle"
      ],
      "metadata": {
        "id": "lInnZbDqhS5u"
      }
    },
    {
      "cell_type": "code",
      "source": [
        "model = AAE(\n",
        "        input_size=128,\n",
        "        input_channels=3,\n",
        "        encoding_dims=128,\n",
        "        classes=2,\n",
        ")"
      ],
      "metadata": {
        "id": "-cmnsjPDhPHT"
      },
      "execution_count": 5,
      "outputs": []
    },
    {
      "cell_type": "markdown",
      "source": [
        "Entraînement de l'auto-encodeur"
      ],
      "metadata": {
        "id": "rKcThip2hdAU"
      }
    },
    {
      "cell_type": "code",
      "source": [
        "### Train Autoencoder ###\n",
        "model_file = 'cat_dog_ae_test'\n",
        "loss_func = model.ae_loss_func\n",
        "\n",
        "metrics = [LossAttrMetric(\"recons_loss\"), accuracy_multi]\n",
        "learn = Learner(dls, model, loss_func=loss_func, metrics=metrics)\n",
        "\n",
        "learning_rate = learn.lr_find()\n",
        "learn.fit(100, lr=learning_rate.valley,\n",
        "            cbs=[TrackerCallback(),\n",
        "                 SaveModelCallback(fname=model_file),\n",
        "                 EarlyStoppingCallback(min_delta=1e-4,patience=10)])\n",
        "\n",
        "state_dict = torch.load(f'models/{model_file}.pth')\n",
        "model.load_state_dict(state_dict, strict=False)"
      ],
      "metadata": {
        "id": "AwH41oaShSZ2"
      },
      "execution_count": null,
      "outputs": []
    },
    {
      "cell_type": "markdown",
      "source": [
        "Entraînement adversarial"
      ],
      "metadata": {
        "id": "ypAdyy4MieoE"
      }
    },
    {
      "cell_type": "code",
      "source": [
        "### Train Adversarial ###\n",
        "model_file = 'cat_dog_aae_test'\n",
        "loss_func = model.aae_loss_func\n",
        "\n",
        "metrics = [LossAttrMetric(\"adv_loss\"), LossAttrMetric(\"recons_loss\"), LossAttrMetric(\"crit_loss\"),\n",
        "           accuracy_multi]\n",
        "learn = Learner(dls, model, loss_func=loss_func, metrics=metrics)\n",
        "\n",
        "learn.fit(100, lr=5e-3,\n",
        "            cbs=[GradientAccumulation(n_acc=16*4),\n",
        "                 TrackerCallback(),\n",
        "                 SaveModelCallback(fname=model_file),\n",
        "                 EarlyStoppingCallback(min_delta=1e-4,patience=10),\n",
        "                 FreezeDiscriminator()])\n",
        "\n",
        "state_dict = torch.load(f'models/{model_file}.pth')\n",
        "model.load_state_dict(state_dict, strict=False)"
      ],
      "metadata": {
        "id": "wN8RMDe2hcAa"
      },
      "execution_count": null,
      "outputs": []
    },
    {
      "cell_type": "markdown",
      "source": [
        "Entraînement du classifieur"
      ],
      "metadata": {
        "id": "CXso9EXmjRwa"
      }
    },
    {
      "cell_type": "code",
      "source": [
        "### Train Classifier ###\n",
        "model_file = 'cat_dog_classif_test'\n",
        "loss_func = model.classif_loss_func\n",
        "\n",
        "metrics = [LossAttrMetric(\"adv_loss\"), LossAttrMetric(\"recons_loss\"),\n",
        "           LossAttrMetric(\"classif_loss\"), LossAttrMetric(\"crit_loss\"),\n",
        "           accuracy_multi]\n",
        "monitor_loss = 'valid_loss'\n",
        "learn = Learner(dls, model, loss_func=loss_func, metrics=metrics)\n",
        "\n",
        "learn.fit(100, lr=1e-2,\n",
        "            cbs=[GradientAccumulation(n_acc=16*4),\n",
        "                 TrackerCallback(monitor=monitor_loss),\n",
        "                 SaveModelCallback(fname=model_file,monitor=monitor_loss),\n",
        "                 EarlyStoppingCallback(min_delta=1e-4,patience=10,monitor=monitor_loss),\n",
        "                 FreezeDiscriminator()])"
      ],
      "metadata": {
        "id": "3oqatIyZjOIM"
      },
      "execution_count": null,
      "outputs": []
    },
    {
      "cell_type": "markdown",
      "source": [
        "Calcul de l'espace latent final"
      ],
      "metadata": {
        "id": "pakr3Vrqjk2v"
      }
    },
    {
      "cell_type": "code",
      "source": [
        "# load the updated model\n",
        "learn.load(model_file, strict=False)\n",
        "# compute the latent space\n",
        "dev = f'cuda:{torch.cuda.current_device()}'\n",
        "learn.zi_valid = torch.tensor([]).to(dev)\n",
        "learn.get_preds(ds_idx=0,cbs=[GetLatentSpace()])\n",
        "z = learn.zi_valid\n",
        "learn.zi_valid = torch.tensor([]).to(dev)\n",
        "learn.get_preds(ds_idx=1,cbs=[GetLatentSpace()])\n",
        "z = torch.vstack((z,learn.zi_valid))\n",
        "torch.save(z,'z_aae.pt')\n",
        "print(z.shape)"
      ],
      "metadata": {
        "id": "igXWmwlujjuc"
      },
      "execution_count": null,
      "outputs": []
    },
    {
      "cell_type": "markdown",
      "source": [
        "Affichage de l'espace latent"
      ],
      "metadata": {
        "id": "BmkGAlt3j_Wz"
      }
    },
    {
      "cell_type": "code",
      "source": [
        "# Convert to 2D space for visualization\n",
        "tsne = TSNE(random_state=42)\n",
        "z = z.view(-1, 128)\n",
        "predictions_embedded = tsne.fit_transform(z.cpu().detach().numpy())\n",
        "\n",
        "fig, ax = plt.subplots()\n",
        "sns.scatterplot(x=predictions_embedded[:,0], y=predictions_embedded[:,1], hue=labels, s=55)\n",
        "# Plot the line along the first principal component\n",
        "start, end = compute_main_direction(predictions_embedded, labels)\n",
        "ax.arrow(start[0], start[1], end[0]-start[0], end[1]-start[1], linewidth=3,\n",
        "          head_width=10, head_length=10, fc='#8B0000', ec='#8B0000', length_includes_head=True)\n",
        "\n",
        "# Define x,y limits\n",
        "maxabs = np.max(np.abs(predictions_embedded)) + 5\n",
        "plt.xlim([-maxabs, maxabs])\n",
        "plt.ylim([-maxabs, maxabs])\n",
        "\n",
        "# Remove xticks and yticks\n",
        "ax.set_xticks([])\n",
        "ax.set_yticks([])\n",
        "# Remove the legend\n",
        "ax.get_legend().remove()"
      ],
      "metadata": {
        "id": "JzdMTsMpj-ZA"
      },
      "execution_count": null,
      "outputs": []
    },
    {
      "cell_type": "markdown",
      "source": [
        "Calcul du score final"
      ],
      "metadata": {
        "id": "S0pCVhof212x"
      }
    },
    {
      "cell_type": "code",
      "source": [
        "# final scoring\n",
        "#Compute linear regression from latent space\n",
        "y_pred = distrib_regul_regression(z.cpu().detach().numpy(), labels)"
      ],
      "metadata": {
        "id": "W8J2vtPU2yKU"
      },
      "execution_count": 10,
      "outputs": []
    }
  ]
}